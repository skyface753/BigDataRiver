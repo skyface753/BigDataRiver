{
 "cells": [
  {
   "cell_type": "code",
   "execution_count": 1,
   "metadata": {
    "collapsed": true
   },
   "outputs": [],
   "source": [
    "import os\n",
    "os.environ['PYSPARK_SUBMIT_ARGS'] = \\\n",
    "  '--conf spark.cassandra.connection.host=cassandra --packages com.datastax.spark:spark-cassandra-connector_2.11:2.0.2 pyspark-shell'"
   ]
  },
  {
   "cell_type": "code",
   "execution_count": 2,
   "metadata": {
    "collapsed": true
   },
   "outputs": [],
   "source": [
    "from pyspark import SparkContext\n",
    "from pyspark.sql import SQLContext\n",
    "from pyspark.sql import functions as F\n",
    "from pyspark.sql.types import *"
   ]
  },
  {
   "cell_type": "code",
   "execution_count": 3,
   "metadata": {
    "collapsed": true
   },
   "outputs": [],
   "source": [
    "sc = SparkContext(appName=\"BigDataRiver\")\n",
    "sc.setLogLevel(\"WARN\")\n",
    "sc.setCheckpointDir('checkpoint/')\n",
    "sql = SQLContext(sc)"
   ]
  },
  {
   "cell_type": "code",
   "execution_count": 4,
   "metadata": {
    "collapsed": true
   },
   "outputs": [],
   "source": [
    "def usersWhoBoughtXAlsoBought(df):\n",
    "    productDf = df.select('user_id', 'product')\n",
    "    otherProductDf = productDf.toDF('user_id', 'other_product')\n",
    "    matchedProductsDf = productDf.join(otherProductDf, otherProductDf['user_id'] == productDf['user_id'], 'inner').\\\n",
    "            filter(\"`product` != `other_product`\").select('product','other_product').\\\n",
    "            groupby('product','other_product').count().toDF(\"product\",\"other_product\",\"count\")\n",
    "    return matchedProductsDf"
   ]
  },
  {
   "cell_type": "code",
   "execution_count": 5,
   "metadata": {
    "collapsed": true
   },
   "outputs": [],
   "source": [
    "def selectTopProducts(df):\n",
    "    df.registerTempTable(\"products\")\n",
    "    topProductsDf = sql.sql(\"\"\"\n",
    "        SELECT\n",
    "            *,\n",
    "            ROW_NUMBER() OVER(PARTITION BY product ORDER BY count DESC) rn\n",
    "        FROM products\n",
    "    \"\"\").where(\"rn <= 5\").groupBy(\"product\").agg(F.collect_list(\"other_product\").alias(\"other_products\"))\n",
    "    return topProductsDf"
   ]
  },
  {
   "cell_type": "code",
   "execution_count": 6,
   "metadata": {
    "collapsed": true
   },
   "outputs": [],
   "source": [
    "def processBatch():\n",
    "    allUserProductsDf = sql.read.format(\"org.apache.spark.sql.cassandra\").\\\n",
    "        options(table=\"all_user_products\", keyspace=\"bdr\").load().cache()\n",
    "    \n",
    "    topDf = selectTopProducts(usersWhoBoughtXAlsoBought(allUserProductsDf))\n",
    "    \n",
    "    topDf.show()\n",
    "            \n",
    "    topDf.write.format(\"org.apache.spark.sql.cassandra\").\\\n",
    "        mode('append').options(table=\"top_other_products_batch\", keyspace=\"bdr\").save()"
   ]
  },
  {
   "cell_type": "code",
   "execution_count": 7,
   "metadata": {
    "collapsed": false,
    "scrolled": false
   },
   "outputs": [
    {
     "name": "stdout",
     "output_type": "stream",
     "text": [
      "+-------+--------------------+\n",
      "|product|      other_products|\n",
      "+-------+--------------------+\n",
      "|     29|[62, 85, 12, 89, 59]|\n",
      "|     19|        [28, 42, 59]|\n",
      "|      0|                 [9]|\n",
      "|     22|        [61, 62, 59]|\n",
      "|      7| [17, 39, 47, 77, 6]|\n",
      "|     77| [17, 55, 6, 20, 99]|\n",
      "|     50|[40, 62, 14, 83, 75]|\n",
      "|     57|[61, 29, 12, 59, 85]|\n",
      "|     32|                [75]|\n",
      "|     39|             [47, 7]|\n",
      "|     25| [99, 70, 38, 2, 41]|\n",
      "|     95|            [18, 21]|\n",
      "|     71|         [24, 1, 45]|\n",
      "|      6| [17, 99, 7, 61, 77]|\n",
      "|     68| [75, 40, 55, 76, 9]|\n",
      "|     72|            [55, 41]|\n",
      "|     58|                [82]|\n",
      "|      9| [76, 40, 5, 75, 68]|\n",
      "|     51| [75, 5, 76, 40, 68]|\n",
      "|     17|  [77, 61, 99, 6, 7]|\n",
      "+-------+--------------------+\n",
      "only showing top 20 rows\n",
      "\n"
     ]
    }
   ],
   "source": [
    "processBatch()"
   ]
  },
  {
   "cell_type": "code",
   "execution_count": null,
   "metadata": {
    "collapsed": true
   },
   "outputs": [],
   "source": []
  }
 ],
 "metadata": {
  "kernelspec": {
   "display_name": "Python 2",
   "language": "python",
   "name": "python2"
  },
  "language_info": {
   "codemirror_mode": {
    "name": "ipython",
    "version": 2
   },
   "file_extension": ".py",
   "mimetype": "text/x-python",
   "name": "python",
   "nbconvert_exporter": "python",
   "pygments_lexer": "ipython2",
   "version": "2.7.12"
  }
 },
 "nbformat": 4,
 "nbformat_minor": 2
}
